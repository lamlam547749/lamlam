{
 "cells": [
  {
   "cell_type": "code",
   "execution_count": 4,
   "id": "f6b52a1c",
   "metadata": {},
   "outputs": [
    {
     "name": "stdout",
     "output_type": "stream",
     "text": [
      "Hệ số chặn: 1.5000000000000004\n",
      "Hệ số góc: [0.5 0.5]\n"
     ]
    }
   ],
   "source": [
    "import numpy as np\n",
    "import pandas as pd\n",
    "from sklearn.linear_model import LinearRegression\n",
    "\n",
    "# Tạo dữ liệu mẫu\n",
    "X = np.array([[1, 2], [2, 3], [3, 4]])\n",
    "y = np.array([3, 4, 5])\n",
    "\n",
    "# Khởi tạo mô hình hồi quy tuyến tính đa biến\n",
    "model = LinearRegression()\n",
    "\n",
    "# Huấn luyện mô hình\n",
    "model.fit(X, y)\n",
    "\n",
    "# In ra các hệ số\n",
    "print('Hệ số chặn:', model.intercept_)\n",
    "print('Hệ số góc:', model.coef_)"
   ]
  },
  {
   "cell_type": "code",
   "execution_count": null,
   "id": "94ee1cb6",
   "metadata": {},
   "outputs": [],
   "source": [
    "df=pd.read_csv"
   ]
  }
 ],
 "metadata": {
  "kernelspec": {
   "display_name": "Python 3 (ipykernel)",
   "language": "python",
   "name": "python3"
  },
  "language_info": {
   "codemirror_mode": {
    "name": "ipython",
    "version": 3
   },
   "file_extension": ".py",
   "mimetype": "text/x-python",
   "name": "python",
   "nbconvert_exporter": "python",
   "pygments_lexer": "ipython3",
   "version": "3.11.0"
  }
 },
 "nbformat": 4,
 "nbformat_minor": 5
}
